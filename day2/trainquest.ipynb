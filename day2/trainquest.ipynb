{
 "cells": [
  {
   "cell_type": "markdown",
   "metadata": {},
   "source": [
    "To get the data: \n",
    " * make sure you are in the office network (VPN)\n",
    " * download this file to your laptop: https://gitlab.csc.fi/sesirkia/trainquest/blob/2edf2d087a800130dfa3cd0ca2d8d5b461cfc096/trainquest_orig.xlsx\n",
    " * upload it to this Jupyter instance under the same folder as this notebook \n",
    " * start running the code below"
   ]
  },
  {
   "cell_type": "code",
   "execution_count": null,
   "metadata": {
    "scrolled": false
   },
   "outputs": [],
   "source": [
    "writeLines(\n",
    "\"1 = 1 Natural sciences\n",
    "2 = 2 Engineering and technology\n",
    "3 = 3 Medical and health sciences\n",
    "4 = 4 Agricultural sciences\n",
    "5 = 5 Social sciences\n",
    "6 = 6 Humanities\n",
    "7 = 9 Others\",\"area1.txt\")"
   ]
  },
  {
   "cell_type": "code",
   "execution_count": null,
   "metadata": {
    "scrolled": false
   },
   "outputs": [],
   "source": [
    "writeLines(\n",
    "\"10 = 111 Mathematics\n",
    "11 = 311 Basic medicine\n",
    "12 = 212 Civil and construction engineering\n",
    "13 = 511 Economics\n",
    "14 = 411 Agriculture and forestry\n",
    "15 = 611 Philosophy\n",
    "16 = 112 Statistics and probability\n",
    "17 = 213 Electronic, automation and communications engineering, electronics\n",
    "18 = 4111 Agronomy\n",
    "19 = 512 Business and management\n",
    "20 = 3111 Biomedicine\n",
    "21 = 612 Languages and literature\n",
    "22 = 113 Computer and information sciences\n",
    "23 = 214 Mechanical engineering\n",
    "24 = 513 Law\n",
    "25 = 4112 Forestry\n",
    "26 = 3112 Neurosciences\n",
    "27 = 6121 Languages\n",
    "28 = 114 Physical sciences\n",
    "29 = 215 Chemical engineering\n",
    "30 = 412 Animal science, dairy science\n",
    "31 = 514 Social sciences\n",
    "32 = 312 Clinical medicine\n",
    "33 = 6122 Literature studies\n",
    "34 = 115 Astronomy and space science\n",
    "35 = 216 Materials engineering\n",
    "36 = 3121 Internal medicine\n",
    "37 = 5141 Sociology\n",
    "38 = 413 Veterinary science\n",
    "39 = 613 Arts\n",
    "40 = 116 Chemical sciences\n",
    "41 = 217 Medical engineering\n",
    "42 = 414 Agricultural biotechnology\n",
    "43 = 3122 Cancers\n",
    "44 = 5142 Social policy\n",
    "45 = 6131 Theatre, dance, music, other performing arts\n",
    "46 = 117 Geography and environmental sciences\n",
    "47 = 218 Environmental engineering\n",
    "48 = 415 Other agricultural sciences\n",
    "49 = 3123 Gynaecology and paediatrics\n",
    "50 = 515 Psychology\n",
    "51 = 6132 Visual arts and design\n",
    "52 = 1171 Geosciences\n",
    "53 = 219 Environmental biotechnology\n",
    "54 = 3124 Neurology and psychiatry\n",
    "55 = 516 Educational sciences\n",
    "56 = 614 Theology\n",
    "57 = 1172 Environmental sciences\n",
    "58 = 220 Industrial biotechnology\n",
    "59 = 3125 Otorhinolaryngology, ophthalmology\n",
    "60 = 517 Political science\n",
    "61 = 615 History and archaeology\n",
    "62 = 118 Biological sciences\n",
    "63 = 221 Nanotechnology\n",
    "64 = 3126 Surgery, anesthesiology, intensive care, radiology\n",
    "65 = 518 Media and communications\n",
    "66 = 616 Other humanities\n",
    "67 = 1181 Ecology, evolutionary biology\n",
    "68 = 222 Other engineering and technologies\n",
    "69 = 313 Dentistry\n",
    "70 = 519 Social and economic geography\n",
    "71 = 1182 Biochemistry, cell and molecular biology\n",
    "72 = 314 Health sciences\n",
    "73 = 520 Other social sciences\n",
    "74 = 1183 Plant biology, microbiology, virology\n",
    "75 = 3141 Health care science\n",
    "76 = 1184 Genetics, developmental biology, physiology\n",
    "77 = 3142 Public health care science, environmental and occupational health\n",
    "78 = 119 Other natural sciences\n",
    "79 = 315 Sport and fitness sciences\n",
    "80 = 316 Nursing\n",
    "81 = 317 Pharmacy\n",
    "82 = 318 Medical biotechnology\n",
    "83 = 319 Forensic science and other medical sciences\n",
    "\",\"area2.txt\")"
   ]
  },
  {
   "cell_type": "code",
   "execution_count": null,
   "metadata": {},
   "outputs": [],
   "source": [
    "library(tidyverse)\n",
    "library(forcats)\n",
    "library(stringr)\n",
    "library(readxl)\n",
    "\n",
    "trainquest_raw <- read_excel(\"trainquest_raw.xlsx\", col_names = FALSE, skip = 1)"
   ]
  },
  {
   "cell_type": "code",
   "execution_count": null,
   "metadata": {},
   "outputs": [],
   "source": [
    "trainquest_raw"
   ]
  },
  {
   "cell_type": "code",
   "execution_count": null,
   "metadata": {
    "scrolled": true
   },
   "outputs": [],
   "source": [
    "summary(trainquest_raw)"
   ]
  },
  {
   "cell_type": "code",
   "execution_count": null,
   "metadata": {},
   "outputs": [],
   "source": [
    "enames <- c(LETTERS,paste0(\"A\",LETTERS[1:(ncol(trainquest_raw)-length(LETTERS))]))\n",
    "names(trainquest_raw) <- enames\n",
    "tr <- trainquest_raw\n",
    "\n",
    "#collapsing discipline in to more manageable groups\n",
    "area1 <- read_delim(\"area1.txt\",\"=\",col_names = FALSE,trim_ws = TRUE)\n",
    "area2 <- read_delim(\"area2.txt\",\"=\",col_names = FALSE,trim_ws = TRUE)\n",
    "tr <- tr %>% mutate(area1=factor(C,levels = area1$X1,labels = area1$X2))\n",
    "tr <- tr %>% mutate(area2=factor(D,levels = area2$X1,labels = area2$X2))\n",
    "rm(area1,area2)\n",
    "\n",
    "tr <- tr %>% mutate(area1=as.character(area1),\n",
    "                    area2=as.character(area2),\n",
    "                    area2=ifelse(is.na(area2),area1,area2), #use area1 if area2 is missing\n",
    "                    area2=ifelse(is.na(area2),\"9\",area2), #mark \"other\" if still missing\n",
    "                    area2=str_extract(area2,\"^[0-9]*\")) #only keep the code now\n",
    "areas <- unique(tr$area2)\n",
    "\n",
    "\n",
    "tr <- tr %>% mutate(area= fct_collapse(area2,physics=\"114\",\n",
    "                    biology=str_subset(areas,\"^118\"),\n",
    "                    mathinfor=as.character(111:113),\n",
    "                    chemgeoother=c(\"115\",\"116\",str_subset(areas,\"^117\"),\"119\",\"1\"),\n",
    "                    eeng=\"213\",\n",
    "                    oeng=str_subset(setdiff(areas,\"213\"),\"^2\"),\n",
    "                    medical=str_subset(areas,\"^3\"),\n",
    "                    agrisochum=str_subset(areas,\"^[456]\"),\n",
    "                    other=\"9\"))\n",
    "\n",
    "# cleaning \"services used\", columns F:K\n",
    "tr <- tr %>% mutate(usedCompute=ifelse(is.na(`F`),0,1),\n",
    "                    usedFunet=ifelse(is.na(G),0,1),\n",
    "                    usedCloud=ifelse(is.na(H),0,1),\n",
    "                    usedRI=ifelse(is.na(I),0,1),\n",
    "                    usedID=ifelse(is.na(J),0,1),\n",
    "                    usedOther=ifelse(is.na(K),0,1))\n",
    "                    \n",
    "# cleaning \"interested in topic\", columns Q:AB\n",
    "tr <- tr %>% mutate(topicHPC=ifelse(is.na(Q),0,1),\n",
    "                    topicprogramming=ifelse(is.na(R),0,1),\n",
    "                    topicplatforms=ifelse(is.na(S),0,1),\n",
    "                    topicapps=ifelse(is.na(`T`),0,1),\n",
    "                    topicdatamgmt=ifelse(is.na(U),0,1),\n",
    "                    topicdataanl=ifelse(is.na(V),0,1),\n",
    "                    topicvisualisation=ifelse(is.na(W),0,1),\n",
    "                    topicvideo=ifelse(is.na(X),0,1),\n",
    "                    topicwireless=ifelse(is.na(Y),0,1),\n",
    "                    topicsecurity=ifelse(is.na(Z),0,1),\n",
    "                    topiclaw=ifelse(is.na(AA),0,1),\n",
    "                    topicnetwork=ifelse(is.na(AB),0,1)\n",
    "                    )\n",
    "\n",
    "usedservice <- select(tr,area,starts_with(\"used\")) %>% \n",
    "  gather(starts_with(\"used\"),key=\"service\",value=\"used\") %>%\n",
    "  separate(service,c(\"tmp\",\"service\"),4) %>% \n",
    "  filter(used==1) %>% select(-c(tmp,used))\n",
    "\n",
    "interesttopic <- select(tr,area,starts_with(\"topic\")) %>% \n",
    "  gather(starts_with(\"topic\"),key=\"topic\",value=\"interest\") %>%\n",
    "  separate(topic,c(\"tmp\",\"topic\"),5) %>% \n",
    "  filter(interest==1) %>% select(-c(tmp,interest))"
   ]
  },
  {
   "cell_type": "code",
   "execution_count": null,
   "metadata": {},
   "outputs": [],
   "source": [
    "ggplot(tr,aes(area))+geom_bar(aes(fill=area),show.legend = FALSE)+\n",
    "geom_text(stat='count',aes(label=..count..),hjust=2)+coord_flip()"
   ]
  },
  {
   "cell_type": "code",
   "execution_count": null,
   "metadata": {},
   "outputs": [],
   "source": [
    "ggplot(usedservice) +geom_bar(aes(service,fill=area),position=\"fill\")+coord_flip()\n",
    "ggplot(interesttopic) +geom_bar(aes(topic,fill=area),position=\"fill\")+coord_flip()"
   ]
  },
  {
   "cell_type": "code",
   "execution_count": null,
   "metadata": {},
   "outputs": [],
   "source": [
    "ggplot(usedservice) +geom_bar(aes(area,fill=service),position=\"fill\")+coord_flip()\n",
    "ggplot(interesttopic) +geom_bar(aes(area,fill=topic),position=\"fill\")+coord_flip()"
   ]
  },
  {
   "cell_type": "code",
   "execution_count": null,
   "metadata": {},
   "outputs": [],
   "source": [
    "usedtopic01 <- select(tr,starts_with(\"used\"),starts_with(\"topic\"))\n",
    "k <- 3 # THE NUMBER OF CLUSTERS; CHANGE THIS\n",
    "km <- kmeans(usedtopic01,k,100)\n",
    "cbind(cluster=factor(1:k),as.data.frame(km$centers)) %>% \n",
    "  gather(starts_with(\"used\"),starts_with(\"topic\"),key=\"dim\",value=\"yesno\") %>% \n",
    "  ggplot()+geom_line(aes(dim,yesno,group=cluster,color=cluster))+coord_flip()"
   ]
  },
  {
   "cell_type": "code",
   "execution_count": null,
   "metadata": {},
   "outputs": [],
   "source": [
    "mutate(tr,cluster=factor(km$cluster)) %>% \n",
    "  ggplot() + geom_bar(aes(area,fill=cluster))\n",
    "\n",
    "mutate(tr,cluster=factor(km$cluster)) %>% \n",
    "  ggplot() + geom_bar(aes(cluster,fill=area))\n"
   ]
  },
  {
   "cell_type": "code",
   "execution_count": null,
   "metadata": {},
   "outputs": [],
   "source": [
    "pca <- princomp(usedtopic01)\n",
    "\n",
    "mutate(tr,cluster=factor(km$cluster),PC1=pca$scores[,1],PC2=pca$scores[,2]) %>% \n",
    "  ggplot()+geom_point(aes(PC1,PC2,color=cluster))"
   ]
  }
 ],
 "metadata": {
  "kernelspec": {
   "display_name": "R",
   "language": "R",
   "name": "ir"
  },
  "language_info": {
   "codemirror_mode": "r",
   "file_extension": ".r",
   "mimetype": "text/x-r-source",
   "name": "R",
   "pygments_lexer": "r",
   "version": "3.4.1"
  }
 },
 "nbformat": 4,
 "nbformat_minor": 2
}
