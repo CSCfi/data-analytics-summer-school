{
 "cells": [
  {
   "cell_type": "markdown",
   "metadata": {},
   "source": [
    "# Tidy data operations with R\n",
    "\n",
    "So let's look at how to work with so-called tidy data. What exactly constitutes tidy data will be covered later. For now the dataset we use will be tidy."
   ]
  },
  {
   "cell_type": "code",
   "execution_count": null,
   "metadata": {},
   "outputs": [],
   "source": [
    "library(tidyverse)"
   ]
  },
  {
   "cell_type": "markdown",
   "metadata": {},
   "source": [
    "Start by reading in a CSV file containing information about various nobel laureates.\n",
    "\n",
    "The data set is mostly clean. For some people the exact birth date is not known so only the year is marked. We choose to omit this information.\n",
    "\n",
    "Additionally some newer laureates are in the data set twice for some reason."
   ]
  },
  {
   "cell_type": "code",
   "execution_count": null,
   "metadata": {},
   "outputs": [],
   "source": [
    "nobel <- read_csv(\"nobel.csv\", na=c(\"\", \"NA\", \"0000-00-00\", \"1898-00-00\", \"1943-00-00\"))\n",
    "nobel <- distinct(nobel, id, .keep_all=TRUE)"
   ]
  },
  {
   "cell_type": "markdown",
   "metadata": {},
   "source": [
    "`read_csv()` returns a tibble, which is kind of like sugar frosting on top of a data frame. There are differences in default behaviour, but they are mostly not important for now.\n",
    "\n",
    "The `head()` method displays the first few rows of the data set so you get an idea of what it contains."
   ]
  },
  {
   "cell_type": "code",
   "execution_count": null,
   "metadata": {},
   "outputs": [],
   "source": [
    "head(nobel)"
   ]
  },
  {
   "cell_type": "markdown",
   "metadata": {},
   "source": [
    "`reac_csv()` was real smart, it recognized dates as such, numbers as such and mostly created facts as strings, not as factors."
   ]
  },
  {
   "cell_type": "code",
   "execution_count": null,
   "metadata": {},
   "outputs": [],
   "source": [
    "class(nobel$born)"
   ]
  },
  {
   "cell_type": "code",
   "execution_count": null,
   "metadata": {},
   "outputs": [],
   "source": [
    "class(nobel$bornCountryCode)"
   ]
  },
  {
   "cell_type": "markdown",
   "metadata": {},
   "source": [
    "## Filtering\n",
    "\n",
    "The simplest tidy data operation that we can do is filter the dataset.\n",
    "\n",
    "The syntax is the logical operator syntax we have learned earlier. You can chain multiple rules on the same variable or different variables."
   ]
  },
  {
   "cell_type": "code",
   "execution_count": null,
   "metadata": {},
   "outputs": [],
   "source": [
    "# laureates between 2008 (exclusive) and 2010 (inclusive)\n",
    "filter(nobel, year =< 2010 & year > 2008))"
   ]
  },
  {
   "cell_type": "code",
   "execution_count": null,
   "metadata": {},
   "outputs": [],
   "source": [
    "# female laureates born in Poland\n",
    "filter(nobel, gender == \"female\" & bornCountryCode == \"PL\")"
   ]
  },
  {
   "cell_type": "markdown",
   "metadata": {},
   "source": [
    "### Exercise\n",
    "\n",
    "Try to filter female laureates who were born in either Poland or in Germany."
   ]
  },
  {
   "cell_type": "code",
   "execution_count": null,
   "metadata": {},
   "outputs": [],
   "source": []
  },
  {
   "cell_type": "markdown",
   "metadata": {},
   "source": [
    "## Piping\n",
    "\n",
    "The `%>%` operator is special syntax so we can easily chain operations.\n",
    "\n",
    "For instance this \n",
    "\n",
    "```\n",
    "arrange(\n",
    "        filter(\n",
    "            nobel, year < 2010 & year > 2008\n",
    "        ), surname\n",
    "    )\n",
    "```\n",
    "and this\n",
    "```\n",
    "intermediate <- filter(nobel, year < 2010 & year > 2008)\n",
    "arrange(intermediate, surname)\n",
    "```\n",
    "are equivalent with this\n",
    "```\n",
    "filter(nobel, year < 2010 & year > 2008) %>%\n",
    "    arrange(surname)\n",
    "```\n",
    "\n",
    "The `filter()` function expects the data as a first parameter but that is omitted in the piping syntax. The first parameter comes from the operation being piped from and the others are passed regularly.\n",
    "\n",
    "\n",
    "This is the best thing since sliced bread, especially when the chain is very long, e.g. this one from later down the line.\n",
    "\n",
    "```\n",
    "filter (nobel, bornCountryCode != diedCountryCode) %>%\n",
    "    group_by(bornCountryCode) %>%\n",
    "    summarize(count = n()) %>%\n",
    "    drop_na() %>%\n",
    "    arrange(desc(count)) %>%\n",
    "    head(20)\n",
    "```\n",
    "\n",
    "To prove that this works.\n"
   ]
  },
  {
   "cell_type": "code",
   "execution_count": null,
   "metadata": {},
   "outputs": [],
   "source": [
    "filter(nobel, year < 2010 & year > 2008) %>%\n",
    "    arrange(surname) %>%\n",
    "    head(2)"
   ]
  },
  {
   "cell_type": "markdown",
   "metadata": {},
   "source": [
    "## Selecting\n",
    "\n",
    "Often we don't need all the data. To select some columns you can use the `select()` function."
   ]
  },
  {
   "cell_type": "code",
   "execution_count": null,
   "metadata": {},
   "outputs": [],
   "source": [
    "filter(nobel, year < 2010 & year > 2008) %>%\n",
    "    arrange(surname) %>%\n",
    "    select(firstname, surname, bornCountryCode)"
   ]
  },
  {
   "cell_type": "code",
   "execution_count": null,
   "metadata": {},
   "outputs": [],
   "source": [
    "group_by(nobel, bornCountryCode) %>%\n",
    "    summarize(count = n(), mean_fraction=mean(1/share)) %>%\n",
    "    drop_na() %>%\n",
    "    arrange(desc(count)) %>%\n",
    "    head(20)"
   ]
  },
  {
   "cell_type": "markdown",
   "metadata": {},
   "source": [
    "## Exercise\n",
    "\n",
    "Do the same as above, except for countries where laureates died (and presumably are buried).\n",
    "\n",
    "After death the fractions don't matter so that can be omitted."
   ]
  },
  {
   "cell_type": "code",
   "execution_count": null,
   "metadata": {},
   "outputs": [],
   "source": []
  },
  {
   "cell_type": "markdown",
   "metadata": {},
   "source": [
    "Bonus, filter away people who have born and died in the same country.\n",
    "\n",
    "This lets you get an idea of the winners (or losers) of brain drain."
   ]
  },
  {
   "cell_type": "code",
   "execution_count": null,
   "metadata": {},
   "outputs": [],
   "source": []
  },
  {
   "cell_type": "markdown",
   "metadata": {},
   "source": [
    "\n",
    "## Exercise\n",
    "\n",
    "Again, do the same analysis for the laureates, except only for the prizes on physics (arguably the only real science).\n",
    "\n",
    "You can do the filter before or after the group_by, but best do it early."
   ]
  },
  {
   "cell_type": "code",
   "execution_count": null,
   "metadata": {},
   "outputs": [],
   "source": []
  },
  {
   "cell_type": "markdown",
   "metadata": {},
   "source": [
    "Bonus, group by two variables, category and gender to get an understanding of how the awards in different fields are distributed. Now `head()` and `sort()` don't seem as logical as previously.\n",
    "\n",
    "Which category has a third gender?"
   ]
  },
  {
   "cell_type": "code",
   "execution_count": null,
   "metadata": {},
   "outputs": [],
   "source": []
  },
  {
   "cell_type": "markdown",
   "metadata": {},
   "source": [
    "## Fun with `mutate()`"
   ]
  },
  {
   "cell_type": "markdown",
   "metadata": {},
   "source": [
    "To compute aggregate statistics or combine things we have a function called `mutate()`.\n",
    "\n",
    "\n",
    "\n"
   ]
  },
  {
   "cell_type": "code",
   "execution_count": null,
   "metadata": {},
   "outputs": [],
   "source": [
    "library(lubridate)\n"
   ]
  },
  {
   "cell_type": "code",
   "execution_count": null,
   "metadata": {},
   "outputs": [],
   "source": [
    "summary(nobel$year)"
   ]
  },
  {
   "cell_type": "code",
   "execution_count": null,
   "metadata": {},
   "outputs": [],
   "source": [
    "nobel2 <- filter(nobel, !is.na(year)) %>%\n",
    "                mutate(\n",
    "                    age = year - year(born)\n",
    "                )\n",
    "summary(nobel2$age)"
   ]
  },
  {
   "cell_type": "code",
   "execution_count": null,
   "metadata": {},
   "outputs": [],
   "source": [
    "ggplot(nobel2, aes(x=category, y=age)) + geom_boxplot()"
   ]
  },
  {
   "cell_type": "markdown",
   "metadata": {},
   "source": [
    "\n",
    "## Add ggplot"
   ]
  },
  {
   "cell_type": "markdown",
   "metadata": {},
   "source": [
    "As it turns out you can just pass the results of operations to `ggplot`."
   ]
  },
  {
   "cell_type": "code",
   "execution_count": null,
   "metadata": {},
   "outputs": [],
   "source": [
    "# Compute the mean fraction of nobels awarded each year\n",
    "data <- group_by(nobel2, year) %>%\n",
    "    summarize(mean_fraction = mean(1/share)) \n",
    "\n",
    "# plot the raw data and plot a fitted curve\n",
    "# what is the \n",
    "ggplot(data, aes(x=year, y=mean_fraction)) + geom_path() + geom_smooth()\n",
    "\n",
    "# you could just combine the two using piping but the ggplot syntax makes that a bit iffy"
   ]
  },
  {
   "cell_type": "markdown",
   "metadata": {},
   "source": [
    "ggplot is smart in the sense that it understands "
   ]
  },
  {
   "cell_type": "markdown",
   "metadata": {},
   "source": [
    "# Making data tidy\n",
    "\n",
    "So far we have been lucky, our data is already in the \"tidy format\".\n",
    "\n",
    "There are three main rules for a data being tidy\n",
    "\n",
    "1. Each variable must have its own column.\n",
    "2. Each observation must have its own row.\n",
    "3. Each value must have its own cell.\n",
    "\n",
    "Let's take for instance this data set. It's in a nice, Excel-y format and nicely human readable and you might consider writing something like this in excel to track things.\n",
    "\n",
    "Tidy data is in fact another name [the third normal form](https://en.wikipedia.org/wiki/Third_normal_form) of database normalization. If you are not a computer scientist ignore this fact. If you are, feel free to vomit rainbows."
   ]
  },
  {
   "cell_type": "code",
   "execution_count": null,
   "metadata": {},
   "outputs": [],
   "source": [
    "table4a"
   ]
  },
  {
   "cell_type": "markdown",
   "metadata": {},
   "source": [
    "What's wrong with this data? Part of the data is in the column headers! The variable is in the body of the table, but part of the identifier is in the column header.\n",
    "\n",
    "To mutate this we `gather()` the data.\n"
   ]
  },
  {
   "cell_type": "code",
   "execution_count": null,
   "metadata": {},
   "outputs": [],
   "source": [
    "tidy4 <- gather(table4a, `1999`, `2000`, key = \"year\", value = \"cases\")\n",
    "tidy4"
   ]
  },
  {
   "cell_type": "code",
   "execution_count": null,
   "metadata": {},
   "outputs": [],
   "source": []
  },
  {
   "cell_type": "markdown",
   "metadata": {},
   "source": [
    "Now we can easily make aggregates on the data because it is in a tidy format.\n",
    "\n",
    "E.g. the yearly means come simply enough."
   ]
  },
  {
   "cell_type": "code",
   "execution_count": null,
   "metadata": {},
   "outputs": [],
   "source": [
    "group_by(tidy4, country) %>%\n",
    "    summarise(mean=mean(cases))"
   ]
  },
  {
   "cell_type": "markdown",
   "metadata": {},
   "source": [
    "The inverse is also possible. Here there are two variables in the `rate` column.\n"
   ]
  },
  {
   "cell_type": "code",
   "execution_count": null,
   "metadata": {},
   "outputs": [],
   "source": [
    "table2"
   ]
  },
  {
   "cell_type": "markdown",
   "metadata": {},
   "source": [
    "To combat this we will need to `spread()` the values so that we have a single (Country, year) observation that contains two values, the cases and the count."
   ]
  },
  {
   "cell_type": "code",
   "execution_count": null,
   "metadata": {},
   "outputs": [],
   "source": [
    "spread(table2, key=type, value=count)"
   ]
  },
  {
   "cell_type": "markdown",
   "metadata": {},
   "source": [
    "Now again the data is tidy. Each observation contains four variables\n",
    "* country\n",
    "* year\n",
    "* cases\n",
    "* population\n",
    "\n",
    "It may not be intuitive that year and country are also variables but they are."
   ]
  },
  {
   "cell_type": "markdown",
   "metadata": {},
   "source": [
    "### Separating and uniting\n",
    "\n",
    "Sometimes we have multiple variables in a same column, e.g.\n"
   ]
  },
  {
   "cell_type": "code",
   "execution_count": null,
   "metadata": {},
   "outputs": [],
   "source": [
    "table3"
   ]
  },
  {
   "cell_type": "code",
   "execution_count": null,
   "metadata": {},
   "outputs": [],
   "source": [
    "To combat this we have `separate()`. Let's see what this does."
   ]
  },
  {
   "cell_type": "code",
   "execution_count": null,
   "metadata": {},
   "outputs": [],
   "source": [
    "?separate"
   ]
  },
  {
   "cell_type": "code",
   "execution_count": null,
   "metadata": {},
   "outputs": [],
   "source": [
    "# So this becomes\n",
    "separate(table3, col=rate, into=c(\"cases\", \"population\")"
   ]
  },
  {
   "cell_type": "markdown",
   "metadata": {},
   "source": [
    "### Exercise\n",
    "\n",
    "There is also an inverse of separate, called `unite()`. In the following case the century and year have been artificially split.\n",
    "\n",
    "Use `unite()` to combine century and year to a canonical year and then separate the rate into two variables as previously to make this data tidy."
   ]
  },
  {
   "cell_type": "code",
   "execution_count": null,
   "metadata": {},
   "outputs": [],
   "source": [
    "table5"
   ]
  },
  {
   "cell_type": "code",
   "execution_count": null,
   "metadata": {},
   "outputs": [],
   "source": [
    "tidy5 <- unite(table5, \"year\", sep=\"\", century, year) %>%\n",
    "    separate(col=rate, into=c(\"cases\", \"population\"))\n"
   ]
  },
  {
   "cell_type": "markdown",
   "metadata": {},
   "source": [
    "**Extra** what variable type is the \"year\" variable now? How could you `mutate` it to a number?"
   ]
  },
  {
   "cell_type": "code",
   "execution_count": null,
   "metadata": {},
   "outputs": [],
   "source": []
  },
  {
   "cell_type": "markdown",
   "metadata": {},
   "source": [
    "## Extra: Relational data\n",
    "\n",
    "If you were excited about the third normal form earlier then you probably know about databases and relational algebra. If you don't know anything about databases this might be a bit advanced for you.\n",
    "\n",
    "Tidyverse has tools for doing relational algebra in a simple way. "
   ]
  },
  {
   "cell_type": "code",
   "execution_count": null,
   "metadata": {},
   "outputs": [],
   "source": [
    "# load the dataset\n",
    "library(nycflights13)"
   ]
  },
  {
   "cell_type": "code",
   "execution_count": null,
   "metadata": {},
   "outputs": [],
   "source": [
    "head(planes)"
   ]
  },
  {
   "cell_type": "code",
   "execution_count": null,
   "metadata": {},
   "outputs": [],
   "source": [
    "head(flights)"
   ]
  },
  {
   "cell_type": "code",
   "execution_count": null,
   "metadata": {},
   "outputs": [],
   "source": [
    "head(weather)"
   ]
  },
  {
   "cell_type": "markdown",
   "metadata": {},
   "source": [
    "The data is in a format where it is not needlessly duplicated. E.g. the information about an airplane is stored in a different table.\n",
    "\n",
    "Let's make an **inner join**. Other sorts of joins are also available if required.\n"
   ]
  },
  {
   "cell_type": "code",
   "execution_count": null,
   "metadata": {},
   "outputs": [],
   "source": [
    "flights %>%\n",
    "    inner_join(planes, by=\"tailnum\")"
   ]
  },
  {
   "cell_type": "markdown",
   "metadata": {},
   "source": [
    "Okay, so now we can do all sorts of powerful aggregation."
   ]
  },
  {
   "cell_type": "code",
   "execution_count": null,
   "metadata": {},
   "outputs": [],
   "source": [
    "flights %>%\n",
    "    inner_join(planes, by=\"tailnum\") %>%\n",
    "    group_by(manufacturer) %>%\n",
    "    summarize(count=n()) %>%\n",
    "    arrange(desc(count))"
   ]
  },
  {
   "cell_type": "markdown",
   "metadata": {},
   "source": [
    "Can you feel the power at your fingertips?"
   ]
  }
 ],
 "metadata": {
  "kernelspec": {
   "display_name": "R",
   "language": "R",
   "name": "ir"
  },
  "language_info": {
   "codemirror_mode": "r",
   "file_extension": ".r",
   "mimetype": "text/x-r-source",
   "name": "R",
   "pygments_lexer": "r",
   "version": "3.4.1"
  }
 },
 "nbformat": 4,
 "nbformat_minor": 2
}
