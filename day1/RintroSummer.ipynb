{
 "cells": [
  {
   "cell_type": "markdown",
   "metadata": {},
   "source": [
    "\n",
    "<p><img src=\"https://www.csc.fi/documents/10180/161914/CSC_2012_LOGO_RGB_72dpi.jpg/c65ddc42-63fc-44da-8d0f-9f88c54779d7?t=1411391121769\" alt=\"Heading\" style=\"float:right;width:100px;height:100px;\"></p>\n",
    "\n",
    "\n",
    " # <font color=\"#7e8bd9\">Introduction to R</font>\n",
    "\n",
    "\n",
    "#### <font color=\"#7e8bd9\"> Part of the Data analytics, AI and Machine Learning Summer School for CSC Summer Trainees</font>\n",
    "<br/>\n",
    "\n",
    "## Outline\n",
    "\n",
    "\n",
    "* [What is R? And how to use this notebook?](#What)\n",
    "* [Writing simple things in R](#Simple)\n",
    "* [Vectors and functions in R](#Vectors)\n",
    "* [Datatypes in R](#Datatypes)\n",
    "* [Data frames in R](#Dataframes)\n",
    "* [Missing values and error messages](#Missing)\n",
    "* [How to learn more?](#How)\n",
    "* [Extra examples and exercises](#Extra) "
   ]
  },
  {
   "cell_type": "markdown",
   "metadata": {},
   "source": [
    "## What is R? <a id='What'></a>\n",
    "\n",
    "R is a programming language for statistical computing and graphics. R is available for free, under a free software licence called the [GNU General public license](https://www.r-project.org/COPYING).\n",
    "\n",
    "When we are programming, we are actually writing a problem for the computer to solve. The language that we use to describe the problem to the computer is called __code__. In this introductory session you get to know the basics of a language that is written in __R code__.\n",
    "\n",
    "R is a language and not a program like, for example, Excel. That is why we need an interface to use R. Today, we will write some R code using a Jupyter notebook. __Jupyter__ is a web based interface that is able to run R, but it can also do a lot of other things, which are not important right now. \n",
    "\n",
    "###### Some details for those that are interested\n",
    "\n",
    "Because R is a language, it could be basically written with anything. However, there are some methods that are more practical than others. The most common method is to use RStudio (see [rstudio.com](https://www.rstudio.com/)). So, if you want to later start using R on your own computer, you can start by [downloading R](https://www.r-project.org/) and RStudio on your computer. Both are free. Today we will not download anything and the code that is written is run \"in the cloud\".\n",
    "\n",
    "## Let's begin!\n",
    "\n",
    "### Running cells in Jupyter\n",
    "\n",
    "This notebook consists of cells. For example, this textblock is a cell, that you can edit by double-clicking it (try this!). Now that you have entered the *edit mode*, you can *run* the cell by clicking the <i class=\"fa fa-step-forward\"></i> Run above, or by using `Ctrl-Enter`.\n",
    "\n",
    "You can edit everything in your notebook (for example, delete stuff). Also, you can add cells in the Insert-menu, run a cell in the Cell-menu and save and download this notebook in the File-menu. __Saving your work__ is possible by using checkpoints (go to the File-menu and click Save and Checkpoint).\n",
    "\n",
    "There are two important types of cells: __Markdown__ and __Code__ cells. This cell is a markdown cell and it contains text. The cell below that has the marking `In[ ]` next to it is the first code cell. R code can be executed in code cells. You can write, for example, 1+1 in the cell below and run the cell. Test it!\n",
    "\n",
    "You can erase the calculation, modify it, and <i class=\"fa fa-step-forward\"></i> Run it again."
   ]
  },
  {
   "cell_type": "code",
   "execution_count": null,
   "metadata": {},
   "outputs": [],
   "source": [
    "5+10"
   ]
  },
  {
   "cell_type": "markdown",
   "metadata": {},
   "source": [
    "## Writing simple things in R <a id='Simple'></a>\n",
    "\n",
    "### Calculations in R\n",
    "It is possible to do calculations in R using familiar math symbols. The following math symbols are used as *arithmetic operators* in R:\n",
    "\n",
    "| R code | Explanation       | Example    |\n",
    "| -------|:---------:        | -----:     |\n",
    "| `+`      | addition        | `1+1`        |\n",
    "| `-`      | reduction       |   `10-5`     |\n",
    "| `*`      | multiplication  |    `10*2`    |\n",
    "| `/`      | division        |    `10/2`    |\n",
    "| `^`      | exponential     |    `10^2`    |\n",
    "| `.`      | decimal point   | `3.14159`    |\n",
    "\n",
    "### Assigning values to names/objects\n",
    "You can store info in objects. This is useful when you want to use your object later.\n",
    "The standard way to assign a value to an object is `object <- value`. Here we deal mostly with numeric values, but also \"Text\" can be used as a value. Text values are actually called *strings*, but we will discuss more about that a bit later. Some examples of assignment are given below:\n",
    "```r\n",
    "price <- 140\n",
    "carPrice <- 1\n",
    "piRounded <- 3.14159\n",
    "name <- \"Text\"\n",
    "cookiePrice <- 2\n",
    "```\n",
    "\n",
    "\n",
    "### Calculation using objects\n",
    "Now you may understand why it is convenient to store values in objects\n",
    "```r\n",
    "discount <- 20\n",
    "finalPrice <- price - discount\n",
    "finalSale <- (price - discount)*0.5\n",
    "```\n",
    "\n",
    "Now you know how very basic math operations can be done in R, and it is time to put these skills into use! The code cell below has already some code written into it, and you can just modify it according to the exercise.\n",
    "#### Exercise 0.1\n",
    "\n",
    "Calculate what is the final price, when the discount is __a)__ 40, or __b)__ 15% of the starting price.\n",
    "\n",
    "Modify the code in the cell below, and run the cell! Notice that you can see the value of an object by writing its name in the code cell and running it."
   ]
  },
  {
   "cell_type": "code",
   "execution_count": null,
   "metadata": {},
   "outputs": [],
   "source": [
    "price <- 140\n",
    "discount <- 20\n",
    "finalPrice <- ???\n",
    "finalPrice"
   ]
  },
  {
   "cell_type": "markdown",
   "metadata": {},
   "source": [
    "## Vectors and functions in R <a id='Vectors'></a>\n",
    "\n",
    "### What vectors are\n",
    "\n",
    "Even though the examples above dealt with single numbers this is not how R is typically used. Usually you have plenty of data (many items and many prices, for example).\n",
    "The way to store a sequence of numbers (or other types of data), is to use a vector. When we are dealing with numeric data, the vector is called a *numeric vector*. When we are dealing with text data, the vector is called a *characeter vector*.\n",
    "\n",
    "Let's make one vector and call it *testVector*.</b>\n",
    "See what comes out by running the cell!"
   ]
  },
  {
   "cell_type": "code",
   "execution_count": null,
   "metadata": {},
   "outputs": [],
   "source": [
    "testVector <- c(10, 30, 1, 4)\n",
    "testVector\n",
    "sort(testVector)"
   ]
  },
  {
   "cell_type": "markdown",
   "metadata": {},
   "source": [
    "Ok, now we have created a numeric vector and sorted it. You can try to figure out how to make a character vector by yourself. If you can not figure it out, do not worry, we will learn it soon."
   ]
  },
  {
   "cell_type": "markdown",
   "metadata": {},
   "source": [
    "### What functions are\n",
    "\n",
    "A surprise! We have already used two functions, `sort()` and `c()`. As you might have quessed, `sort()` is a function that orders the values in a vector, and `c()` is a function that combines its arguments to form a vector. In the case of `testVector <- c(10,30,-20,-1)`, the arguments are 10, 30, -20, and -1.\n",
    "\n",
    "Some useful functions include convenient ways to calculate things, such as `mean()`, which calculates the mean of a numeric vector. The function call `mean(testVector)` will give you 4.75 as the output, since it treats the vector `c(10,30,-20,-1)` as a whole. On the other hand, the function `abs(testVector)`, will actually return a vector that contains the absolute values of its arguments. In other words, the function `abs` treats its arguments *element by element*. Run the cell below, and try to figure out what is happening!"
   ]
  },
  {
   "cell_type": "code",
   "execution_count": null,
   "metadata": {
    "scrolled": true
   },
   "outputs": [],
   "source": [
    "testVector <- c(10, 30, -20, -1)\n",
    "mean(testVector)\n",
    "abs(testVector)\n",
    "mean(testVector) - abs(testVector)"
   ]
  },
  {
   "cell_type": "markdown",
   "metadata": {},
   "source": [
    "__Some useful functions__ are listed next. You don't have to memorize any functions, but it is useful to know some that are available. If you are unsure how a function works, you can always open the help. You can also search the internet or [R documentation](https://www.r-project.org/other-docs.html) for many more functions.\n",
    "\n",
    "* Most mathematical functions also work *element by element* and return multiple values<br/>\n",
    "   `exp()`, `log()`, `abs()`\n",
    "* Some functions treat the vector as a whole and return a single value, like the length of a vector<br/>\n",
    "    `length()`, `sum()`, `mean()`, `median()`, `sd()`, `var()`, `min()`, `max()` <br/>\n",
    "* Other functions tell several things at once<br/>\n",
    "    `summary()`, `str()` <br/>\n",
    "* It is also possible to ask for help and open R documentation. <br/>\n",
    "    `help(functions name)`, or `?functions name` will both work<br/>\n",
    "* Basic R can also be used to create simple graphics.<br/>\n",
    "    `plot()`, `barplot()`<br/>\n",
    "\n",
    "By the way, commenting your code is done by using the `#` character in R. Commenting your code is especially necessary when writing a bit longer projects. Comments are used to explain what you are doing in your code. The `#` will turn the following text into \"non-code\" and it will be ignored by the interpreter that turns the R-code into action."
   ]
  },
  {
   "cell_type": "code",
   "execution_count": null,
   "metadata": {},
   "outputs": [],
   "source": [
    "# This is a comment, see how it works\n",
    "help(summary)\n",
    "summary(testVector)\n",
    "# See what happens if you erase the # character below\n",
    "# mean(testVector)"
   ]
  },
  {
   "cell_type": "markdown",
   "metadata": {},
   "source": [
    "## Next some exercises! \n",
    "\n",
    "Use the `help()`, search the internet, or just quess the correct commands.\n",
    "Writing something \"wrong\" does not break anything, it will just give an error message. Find the mistake, fix the mistake, and run the cell again!\n",
    "\n",
    "By the way, if you store the value of some calculation in an object, you can read its content by simply writing its name.\n",
    "\n",
    "#### Exercise 1: Learning to use external resources\n",
    "Find out the variance of the following numbers: 1, 4, 9.5, 10, and -2.<br/>\n",
    "*Hint!* You don't have to know what variance is, there is a function for it :)"
   ]
  },
  {
   "cell_type": "code",
   "execution_count": null,
   "metadata": {},
   "outputs": [],
   "source": [
    "# Exercise 1 answer below\n",
    "variance <- ..."
   ]
  },
  {
   "cell_type": "markdown",
   "metadata": {},
   "source": [
    "#### Exercise 2: Finding out how a function works\n",
    "Learn what the function `seq()` does and what arguments it needs to work. Test it. Do not be afraid to get an error message!"
   ]
  },
  {
   "cell_type": "code",
   "execution_count": null,
   "metadata": {},
   "outputs": [],
   "source": [
    "# Exercise 2 answer below\n",
    "mysterySeq <- ..."
   ]
  },
  {
   "cell_type": "markdown",
   "metadata": {},
   "source": [
    "#### Exercise 3: Thinking on your own\n",
    "Create a vector `t` that contains the numbers from 0 to 10 with 0.1 interval, and plot the `sin()` of the vector `t` at the points in the `t` vector."
   ]
  },
  {
   "cell_type": "code",
   "execution_count": null,
   "metadata": {},
   "outputs": [],
   "source": [
    "# Exercise 3 answer below\n",
    "t <- \n",
    "y <-\n",
    "plot(t, y)"
   ]
  },
  {
   "cell_type": "markdown",
   "metadata": {},
   "source": [
    "#### Extra exercise for the fast ones\n",
    "Find out how to write a title into the plot and change the scatter plot from exercise 3 into a line plot. <br/>\n",
    "*Hint!* The `plot()` function can take more arguments than two. Do not worry about finishing this exercise if you run out of time."
   ]
  },
  {
   "cell_type": "code",
   "execution_count": null,
   "metadata": {},
   "outputs": [],
   "source": [
    "# Answer for the extra exercise\n",
    "help(plot)\n"
   ]
  },
  {
   "cell_type": "markdown",
   "metadata": {},
   "source": [
    "#### Extra exercise for the really fast ones\n",
    "\n",
    "Let's say that there is a small company that sells boxes of books in an auction. The amount of books in each box varies, and the price of each box is set in the auction. You are the summer trainee of this book auction company, and must find out: __a)__ How much you sold in total, __b)__ what is the average price of a box, __c)__ what is the average price of a book, and __d)__ what is the standard deviation of book price?"
   ]
  },
  {
   "cell_type": "code",
   "execution_count": null,
   "metadata": {
    "scrolled": true
   },
   "outputs": [],
   "source": [
    "# Answer for the extra exercise 2\n",
    "prices <- c(100, 49, 10, 16, 88, 2, 51)\n",
    "booksInBoxes <- c(30, 1, 12, 5, 8, 1, 14)\n",
    "\n"
   ]
  },
  {
   "cell_type": "markdown",
   "metadata": {},
   "source": [
    "## Data types <a id='Datatypes'></a>\n",
    "\n",
    "### Numeric vectors vs. character vectors\n",
    "\n",
    "Now that you hopefully can write some simple R code and search the R documentation or the internet for information about functions, it is time to learn something new! As you might remember, there are *numeric* and *character* vectors, which are used to store numbers and text. A character vector can obviously contain numbers as well, but in text format.  Character vectors can be created using quotes `\" \"` or single quotes `' ' `.\n",
    "\n",
    "For example, what is the difference between the following commands?\n",
    "```r\n",
    "numVector <- c(1, 2, 3, 4)\n",
    "chVector <- c(\"1\", \"2\", \"3\", \"4\")\n",
    "```\n",
    "Try running the cell below and inspect the message."
   ]
  },
  {
   "cell_type": "code",
   "execution_count": null,
   "metadata": {},
   "outputs": [],
   "source": [
    "# Demonstrating the difference between character and numeric vectors\n",
    "numVector <- c(1, 2, 3, 4)\n",
    "chVector <- c(\"1\", \"2\", \"3\", \"4\")\n",
    "\n",
    "sum(numVector)\n",
    "sum(chVector)"
   ]
  },
  {
   "cell_type": "markdown",
   "metadata": {},
   "source": [
    "### Logical vectors  and logical operators <a id='Logical'></a>\n",
    "\n",
    "In addition to numeric and character vectors, there are *logical* vectors. Logical vectors have only two possible values, `TRUE` and `FALSE`. They are answers to questions, such as, is the price above 50? Or is the price exactly 10? Or is this object numeric or not? \n",
    "\n",
    "A logical vector can be created very similarly to other vectors, for example, \n",
    "```r\n",
    "answers <- c(TRUE, FALSE, TRUE, TRUE)\n",
    "```\n",
    "\n",
    "Logical vectors (notice that a single value is a vector with the length of one) are often created as the output of functions. For example, the function `is.numeric()` tests if its argument is numeric and returns a logical value."
   ]
  },
  {
   "cell_type": "code",
   "execution_count": null,
   "metadata": {},
   "outputs": [],
   "source": [
    "# Run this cell to see what happens\n",
    "is.numeric(\"some character string\")\n",
    "is.numeric(50385)"
   ]
  },
  {
   "cell_type": "markdown",
   "metadata": {},
   "source": [
    "Logical vectors are not only created as function outputs, but also as the result of *logical operations* that are written in an intuitive way, very similarly to the arithmetic operators.\n",
    "\n",
    "The *logical operators* in R are listed below with some use examples:\n",
    "\n",
    "| R code    | Explanation       | Example      | Output         |\n",
    "| -------   |:---------:        | -----:       | -----:         |\n",
    "| `<`       | less than         |  `10 < 15`   |  `TRUE`        |\n",
    "| `>`       | greater than      |  `3 > 3`     |  `FALSE`       |\n",
    "| `<=`      | less or equal     |  `3 <= 3`    |  `TRUE`        |\n",
    "| `>=`      | greater or equal  |  `5 >= 6`    |  `FALSE`       |\n",
    "| `==`      | equal             |  `7 == 7`    |  `TRUE`        |\n",
    "| `!=`      | not equal         |  `2 != 2`    |  `FALSE`       |\n",
    "\n",
    "It is also possible to combine different rules by using logical operators, which are and `&`, or `|`, and not `!`.\n",
    "\n",
    "Try to play with logical operators a bit in the code cell below."
   ]
  },
  {
   "cell_type": "code",
   "execution_count": null,
   "metadata": {},
   "outputs": [],
   "source": [
    "# Test some logical operators to see how they work\n",
    "age <- 15\n",
    "age < 18\n",
    "# Combining rules\n",
    "age < 18 & age > 16"
   ]
  },
  {
   "cell_type": "markdown",
   "metadata": {},
   "source": [
    "Now some exercises to flex your brain with logical operators.\n",
    "\n",
    "#### Exercise 4: Getting to know logical operators\n",
    "Write in R code: Is the sum of numbers from 1 to 100 more than 5000 and less than 6000?<br/>\n",
    "_Hint!_ Some functions you might want to use: `seq()` and `sum()`"
   ]
  },
  {
   "cell_type": "code",
   "execution_count": null,
   "metadata": {},
   "outputs": [],
   "source": [
    "# Exercise 4 answer here\n"
   ]
  },
  {
   "cell_type": "markdown",
   "metadata": {},
   "source": [
    "#### Exercise 5: Logical operators in use\n",
    "\n",
    "Let's say that you run a small company that sells boxes of books in an auction. The amount of books in each box varies, and the price of each box is set in the auction.\n",
    "\n",
    "The object `prices` has the prices of the boxes that were sold each day, and `booksInBoxes` has the amounts of books that were in each box.\n",
    "\n",
    "Your task is to find out whether the total sales was above our weekly target, 500?"
   ]
  },
  {
   "cell_type": "code",
   "execution_count": null,
   "metadata": {},
   "outputs": [],
   "source": [
    "# Exercise 5 answer here\n",
    "prices <- c(100, 49, 10, 16, 88, 2, 51)\n",
    "booksInBoxes <- c(30, 1, 12, 5, 8, 1, 14)\n"
   ]
  },
  {
   "cell_type": "markdown",
   "metadata": {},
   "source": [
    "#### Exercise 6: Combining rules\n",
    "Now we have evaluated our goal again, and set the goal to sell above 500 in a week, or at least sell above 40 per day on average. Was this new goal met?<br/>\n",
    "*Hint!* Combine the rules using a suitable logical operator."
   ]
  },
  {
   "cell_type": "code",
   "execution_count": null,
   "metadata": {},
   "outputs": [],
   "source": [
    "# Exercise 6 answer here\n"
   ]
  },
  {
   "cell_type": "markdown",
   "metadata": {},
   "source": [
    "### Choosing values\n",
    "Sometimes we want to choose a part of the values from a larger dataset for further analysis.\n",
    "We can do this using square brackets `[ ]`.<br/>\n",
    "Observe the output of the cell below by running it. Feel free to modify the code and test how it works."
   ]
  },
  {
   "cell_type": "code",
   "execution_count": null,
   "metadata": {},
   "outputs": [],
   "source": [
    "prices[1]             # choosing the first value\n",
    "prices[2:5]           # choosing the 2nd, 4th, and 5th value\n",
    "prices[prices > 40]   # choosing values based on logical operations"
   ]
  },
  {
   "cell_type": "markdown",
   "metadata": {},
   "source": [
    "### The workspace\n",
    "\n",
    "The workspace holds the objects the user (you!) have defined during the session. For example, the object `prices` should be in your workspace. Here are some useful commands to get you started with the workspace:\n",
    "* `getwd()` prints the current working directory location\n",
    "* `ls()` lists all the objects in the workspace\n",
    "* `rm(list=ls())` removes all the objects in the workspace\n",
    "* `rm(prices)` removes only the object `prices` from the workspace\n",
    "\n",
    "Now might also be a good time to create a checkpoint if you want to save the state of your work before moving on."
   ]
  },
  {
   "cell_type": "code",
   "execution_count": null,
   "metadata": {},
   "outputs": [],
   "source": [
    "# Find out what objects you have in your workspace"
   ]
  },
  {
   "cell_type": "markdown",
   "metadata": {},
   "source": [
    "### Data frames - the most important data structure in R <a id='Dataframes'></a>\n",
    "We moved on from having objects that were single values to objects that were single vectors. However, it would be useful if the vectors that are related to each other could also be represented by the same object.\n",
    "Now we will proceed to storing our data in even bigger entities, __data frames__. Data frames can include our previously very separate vectors in the same object.\n",
    "\n",
    "Some of the functions will work with entire data frames, like `summary()`, but for some functions, like `mean()`, you should specify which data inside the data frame you want to use in the function.\n",
    "\n",
    "Some important functions and commands that are useful for working with data frames include:\n",
    "* `data.frame()` creates a data frame of the arguments that it is given\n",
    "* the dollar sign `$` is used to take a column from a data frame\n",
    "* square brackets `[ ]` can be used to take a part of the dataframe\n",
    "* `subset()` returns a subset of a data frame\n",
    "\n",
    "In the following examples we will learn how to create, modify, and use data frames in R.\n",
    "But first, let's create a couple of vectors and combine them into one data frame for storage. "
   ]
  },
  {
   "cell_type": "code",
   "execution_count": null,
   "metadata": {},
   "outputs": [],
   "source": [
    "# Here we create some data to put into a data frame\n",
    "amount <- c(2, 3, 5, 1)\n",
    "book <- c(\"Comics\", \"Novels\", \"Manuals\", \"Comics\") \n",
    "prices <- c(7.50, 20.00, 66.0, 500)\n",
    "\n",
    "# Combining the vectors into a dataframe\n",
    "bookTypes <- data.frame(amount, book, prices)\n",
    "bookTypes"
   ]
  },
  {
   "cell_type": "markdown",
   "metadata": {},
   "source": [
    "### Factors\n",
    "\n",
    "There is still one data type to discuss, __factor__. Factors can be described as categories, such as `Comics`, `Novels`, and `Manuals`. You can check that the class of `bookTypes$book` is actually factor by the function `class()`.\n",
    "The class changed from character to factor because the function `data.frame()` turns character vectors into factors by default. The conversion can be avoided by the option `stringsAsFactors=FALSE`. Factors are necessary in statistical modeling, where different categories are often compared.\n",
    "\n",
    "Let's create a new data frame, but this time, we'll put everything inside it immediately. Also, see how conveniently we can continue our code on the next line."
   ]
  },
  {
   "cell_type": "code",
   "execution_count": null,
   "metadata": {},
   "outputs": [],
   "source": [
    "# Here we create yet another data\n",
    "bookReview <- data.frame(storage = c(4, 1, 3, 2), \n",
    "            titles = c(\"Good book\", \"Excellent book\", \"Bad book\", \"Horrible book\"),\n",
    "            cost = c(12.1, 20.0, 3.33, -10 ),\n",
    "            stringsAsFactors=FALSE)\n",
    "bookReview"
   ]
  },
  {
   "cell_type": "markdown",
   "metadata": {},
   "source": [
    "Now if we want to get only the titles, we must specify from which data frame it is found.\n",
    "This is done by using the `$` -sign. You can also try to take the column without specifying the data frame, and see what happens."
   ]
  },
  {
   "cell_type": "code",
   "execution_count": null,
   "metadata": {
    "scrolled": true
   },
   "outputs": [],
   "source": [
    "bookReview$titles              # take a column from the data frame\n",
    "titles                         # take the variable 'titles'"
   ]
  },
  {
   "cell_type": "markdown",
   "metadata": {},
   "source": [
    "### Creating and modifying columns\n",
    "Now we will create (and modify) some new columns into the data frame using the `$` -sign. See what happens to our `bookReview` and try to figure out how the column `storage.value` is created!<br/>\n",
    "_Hint!_ The next exercise will be easier if you focus on this part."
   ]
  },
  {
   "cell_type": "code",
   "execution_count": null,
   "metadata": {},
   "outputs": [],
   "source": [
    "# Creating some new columns\n",
    "bookReview$type <- \"book\"\n",
    "bookReview$storage.value <- bookReview$storage * bookReview$cost\n",
    "bookReview\n",
    "\n",
    "# Modifying our new columns\n",
    "bookReview$type[4] <- \"trash\"\n",
    "bookReview"
   ]
  },
  {
   "cell_type": "markdown",
   "metadata": {},
   "source": [
    "#### Exercise 7: Modifying the data frame\n",
    "Now we have recieved a shipment of new books and luckily and their information should be stored into our data frame.\n",
    "The shipment included 2 books of each type. Don't forget to update the storage value!\n",
    "\n",
    "By the way, the cost of the books stays the same."
   ]
  },
  {
   "cell_type": "code",
   "execution_count": null,
   "metadata": {},
   "outputs": [],
   "source": [
    "# Exercise 5 answer here\n"
   ]
  },
  {
   "cell_type": "markdown",
   "metadata": {},
   "source": [
    "### Choosing values from a data frame\n",
    "\n",
    "As you might have already learned, there are many ways to achieve the same goal in R. Both `subset()` and `[ ]` can be used to choose columns and rows. \"Unselecting\" columns is done by the minus-sign (`-`).\n",
    "Uncomment the method you want to test. Can you figure out how each method works?"
   ]
  },
  {
   "cell_type": "code",
   "execution_count": null,
   "metadata": {
    "scrolled": true
   },
   "outputs": [],
   "source": [
    "# Create a column with a sequence of numbers\n",
    "bookReview$delete.column <- seq(1, 100, length=4)\n",
    "bookReview\n",
    "\n",
    "# multiple methods to delete the 6th column in the data frame.\n",
    "bookReview <- bookReview[1:4, 1:5]\n",
    "#bookReview <- bookReview[1:4,-6]\n",
    "#bookReview <- subset(bookReview, select = -6)\n",
    "#bookReview[\"delete.column\"] <- NULL\n",
    "\n",
    "bookReview"
   ]
  },
  {
   "cell_type": "markdown",
   "metadata": {},
   "source": [
    "We can also set rules for the observations that we want to take from the data frame."
   ]
  },
  {
   "cell_type": "code",
   "execution_count": null,
   "metadata": {},
   "outputs": [],
   "source": [
    "# take a part (a subset) of the data frame\n",
    "bookReview[bookReview$cost > 5, ]\n",
    "bookReview[bookReview$type == \"book\", ]\n",
    "\n",
    "# also test the same with subset function\n",
    "subset(bookReview, storage > 1 & cost > 5)\n",
    "bookReview"
   ]
  },
  {
   "cell_type": "markdown",
   "metadata": {},
   "source": [
    "#### Exercise 8: Finding observations from the data frame\n",
    "Find out the average cost of the books that are not horrible."
   ]
  },
  {
   "cell_type": "code",
   "execution_count": null,
   "metadata": {},
   "outputs": [],
   "source": [
    "# Answer to exercise 8\n"
   ]
  },
  {
   "cell_type": "markdown",
   "metadata": {},
   "source": [
    "Next, let's try to use some functions on our data frame. Run the cell below and observe the output!"
   ]
  },
  {
   "cell_type": "code",
   "execution_count": null,
   "metadata": {},
   "outputs": [],
   "source": [
    "summary(bookReview)  # see how this works on a data frame\n",
    "mean(bookReview)     # see how this does not work on a data frame"
   ]
  },
  {
   "cell_type": "markdown",
   "metadata": {},
   "source": [
    "### Missing values and error messages <a id='Missing'></a>\n",
    "\n",
    "Learning to read error messages is a good skill to have, because it will help you locate and fix errors in your code. Did you read the <span style=\"background-color:#ffcccc\"> warning message </span>  that appeared when we tried to take the `mean()` from the entire data frame? The message says that the argument we gave the function is not in suitable format. However, the function did still return something.\n",
    "\n",
    "`NA` is short for \"not available\", which means that the answer is a missing value. In real life, datasets are full of missing values. You should remember that missing values can disturb some calculations, such as if you want to take the `mean()` from a vector that has `NA`s. Luckily, you can tell the function `mean()` to skip `NA`s in calculation by giving the function an extra attribute `na.rm=TRUE`.\n",
    "\n",
    "There is also another value, `NULL`, that could be confused with `NA`, but the difference between `NULL` and `NA` is a bit out of the scope of this session. Check out the R documentation if you are interested!\n",
    "\n",
    "Now let's play a bit with missing values and the option `na.rm`."
   ]
  },
  {
   "cell_type": "code",
   "execution_count": null,
   "metadata": {
    "scrolled": true
   },
   "outputs": [],
   "source": [
    "# Create a column full of missing values\n",
    "bookReview$test.column <- NA\n",
    "\n",
    "# Add some values to replace the missing values\n",
    "bookReview$test.column[1:3] <- c(2,4,1)\n",
    "bookReview\n",
    "\n",
    "# Calculations\n",
    "mean(bookReview$test.column)\n",
    "mean(bookReview$test.column, na.rm = TRUE)"
   ]
  },
  {
   "cell_type": "markdown",
   "metadata": {},
   "source": [
    "## How to learn more <a id='How'></a>\n",
    "\n",
    "### Getting data into R\n",
    "\n",
    "For now we have dealt with very small \"datasets\" that were written directly into the R code, but in the real world you would use data from external resources. R has many functions for data import, such as `read.csv()` to read .csv files and  `read.table()` to read .txt files. Notice that your data might not be exactly in the format that the function expects! For example, if your data uses a different decimal point than the default `.`, you can five the function an extra argument to specify the separator. This would be written as `read.csv(\"filename.csv\", dec = \",\")`.\n",
    "\n",
    "R has also some built-in datasets that you can practice with. If you are interested, available datasets are listed by the `data()` function. The same function also loads the dataset when the name of the dataset is given as an argument. The *iris* dataset is a good one to start with."
   ]
  },
  {
   "cell_type": "code",
   "execution_count": null,
   "metadata": {},
   "outputs": [],
   "source": [
    "# An example of exploring a built-in dataset\n",
    "rm(list=ls())  # clear workspace\n",
    "data(iris)     # load data\n",
    "head(iris)     # explore data\n",
    "str(iris)\n",
    "?iris"
   ]
  },
  {
   "cell_type": "markdown",
   "metadata": {},
   "source": [
    "### Packages\n",
    "\n",
    "Packages are the strength of R! You can extend R by installing new packages. There are several packages already installed with R, but installing new ones will probably be necessary if you are working with more than the very basic stuff. You only have to install a package once, but load it into the library for use every time you start a new session. Here are some useful functions to get you started!\n",
    "\n",
    "* `installed.packages()` will list all the packages that are already installed\n",
    "* `install.packages(\"packageName\")` will install the package from CRAN\n",
    "* `library()` will list all the packages that are available in the library and ready to use\n",
    "* `library(\"packageName\")` will load the package to be used during the session\n",
    "\n",
    "The amount of packages available for R is enormous. See this [article at rstudio.com](https://support.rstudio.com/hc/en-us/articles/201057987-Quick-list-of-useful-R-packages)  to find a nice list of useful packages.\n",
    "All available packages at CRAN can be found at [cran.r-project.org](https://cran.r-project.org) under Packages, and a useful listing of packages by topic is under Task Views.\n",
    "\n",
    "Now you have the basic tools to move on to the next section of this Data Analytics School. If you want to go through these materials later on, go ahead and download this notebook as PDF!\n",
    "\n",
    "\n"
   ]
  },
  {
   "cell_type": "markdown",
   "metadata": {},
   "source": [
    "## Extra examples and exercises <a id='Extra'></a>\n",
    "\n",
    "Here are some extra examples and exercises for those who have some coding experience, have perhaps used R before, or are just very fast.\n",
    "\n",
    "### Examples with built-in datasets\n",
    "\n",
    "Let's continue with the dataset *iris* (see [Wikipedia: Iris flower data set](https://en.wikipedia.org/wiki/Iris_flower_data_set)).\n",
    "\n",
    "There are often special groups in a study that should be compared. In the *iris* -dataset, there are three different species of iris flowers. We can use the `summary()` to create all kinds of statistics, but these do not tell anything about the differences between each species. We could also manually separate each group and calculate statistics individually for each species. However, there is also a way* to tell R to do all these calculations for us at once.\n",
    "\n",
    "`aggregate()` will split the data into subsets for grouped calculations, and return the output in a data frame. For example, the following function call will give us the mean of sepal length for each species separately:\n",
    "```r\n",
    "aggregate(iris[\"Sepal.Length\"], list(iris$Species), mean)\n",
    "```\n",
    "#### Extra 1: Aggregate\n",
    "\n",
    "Calculate the mean of all the variables by species in the *iris* dataset.\n",
    "\n"
   ]
  },
  {
   "cell_type": "code",
   "execution_count": null,
   "metadata": {},
   "outputs": [],
   "source": [
    "# Answer for Extra 1\n"
   ]
  },
  {
   "cell_type": "markdown",
   "metadata": {},
   "source": [
    "You probably solved the previous exercise using `[ ]` and `:`, but there is also another method to tell a function how we want to user our data. The __Formula__ interface specifies which columns are used in a function and how. Understanding the formulae will be more important when you get to using functions like `ggplot()` for graphics or `lm()` for linear models (e.g. regression). Some references can be found at [rstudio.com](https://rviews.rstudio.com/2017/02/01/the-r-formula-method-the-good-parts/) and [dummies.com](http://www.dummies.com/programming/r/how-to-use-the-formula-interface-in-r/). Reading the `?formulas` can help you as well.\n",
    "\n",
    "Here are some examples to get you started! Feel free to modify the formula in the cell below."
   ]
  },
  {
   "cell_type": "code",
   "execution_count": null,
   "metadata": {},
   "outputs": [],
   "source": [
    "# Demonstrating the use of formulas\n",
    "# Calculating the mean sepal length BY species\n",
    "aggregate(Sepal.Length~Species, data = iris, FUN = mean)\n",
    "\n",
    "# Plotting BY species\n",
    "plot(Sepal.Length~Species, data = iris)\n"
   ]
  },
  {
   "cell_type": "markdown",
   "metadata": {},
   "source": [
    "#### Extra 2: Formula\n",
    "\n",
    "Plot the petal width by petal length of irises, where the color indicates the species.\n",
    "\n"
   ]
  },
  {
   "cell_type": "code",
   "execution_count": null,
   "metadata": {},
   "outputs": [],
   "source": [
    "# Answer for Extra 2\n"
   ]
  },
  {
   "cell_type": "markdown",
   "metadata": {},
   "source": [
    "#### Extra 3: Explore\n",
    "Feel free to explore another built-in dataset in R, _ToothGrowth_ "
   ]
  },
  {
   "cell_type": "code",
   "execution_count": null,
   "metadata": {},
   "outputs": [],
   "source": [
    "# Free exploration"
   ]
  }
 ],
 "metadata": {
  "celltoolbar": "Raw Cell Format",
  "kernelspec": {
   "display_name": "R",
   "language": "R",
   "name": "ir"
  },
  "language_info": {
   "codemirror_mode": "r",
   "file_extension": ".r",
   "mimetype": "text/x-r-source",
   "name": "R",
   "pygments_lexer": "r",
   "version": "3.4.3"
  }
 },
 "nbformat": 4,
 "nbformat_minor": 1
}
